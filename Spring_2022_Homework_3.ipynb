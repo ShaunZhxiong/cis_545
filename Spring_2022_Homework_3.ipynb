{
  "nbformat": 4,
  "nbformat_minor": 0,
  "metadata": {
    "colab": {
      "name": "Spring 2022 Homework 3.ipynb",
      "provenance": [],
      "collapsed_sections": []
    },
    "kernelspec": {
      "name": "python3",
      "display_name": "Python 3"
    },
    "accelerator": "GPU"
  },
  "cells": [
    {
      "cell_type": "markdown",
      "metadata": {
        "id": "qVMCjEV1IEC7"
      },
      "source": [
        "# CIS 545 Homework 3: Spark SQL\n",
        "\n",
        "#### **Worth 100 points**\n",
        "\n",
        "Welcome to CIS 545 Homework 3! In this homework you will gain a mastery of using Spark SQL. By the end, you'll be a star (not that you aren't already one). Over the next few days you will be using an EMR cluster to use Spark to manipulate the  `basic_stats2.json` and `defensive.json` datasets, as well as `superbowl3.csv`.\n",
        "\n",
        "The goal of the homework will be to create a dataset for a Time Series model.  Yes, we are training you for the portions of the class coming up in the not-so-distant future!!\n",
        "\n",
        "## The Necessary Notes and Nags\n",
        "Before we begin here are some important notes to keep in mind,\n",
        "\n",
        "\n",
        "1.   **IMPORTANT!** I said it twice, it's really important. In this homework, we will be using AWS resources. You are given a quota ($100) to use for the entirety of the homework. There is a small chance you will use all this money, however it is important that at the end of every session, you **shut down your EMR cluster**.\n",
        "2.   **Be sure you use Google Colab for this Homework** since we must connect to the EMR cluster and local Jupyter will have issues doing that. Using a Google Colab Notebook with an EMR cluster has two important abnormalities:\n",
        "    * The first line of any cell in which you will use the spark session must be `%%spark`. Notice that all cells below have this.\n",
        "    * You will, unfortunately, not be able to stop a cell while it is running. If you wish to do so, you will need to restart your cluster. See the Setup EMR Document for reference.\n",
        "3.   You are **required** to use Spark SQL queries to handle the data in the assignment. Mastering SQL is more beneficial than being able to use Spark commands (functions) as it will show up in more areas of programming and data science/analytics than just Spark. Use the following [function list](https://spark.apache.org/docs/latest/api/sql/index.html#) to see all the SQL functions avaliable in Spark.\n",
        "4.   Throughout the homework you will be manipulating Spark dataframes (sdfs). We do not specify any ordering on the final output. You are welcome to order your final tables in whatever way you deem fit. We will conduct our own ordering when we grade.\n",
        "5. Based on the challenges you've faced in the previous homework, we are including information on the expected schema of your results.  Apache Spark is very fiddly but we hope this will help.\n",
        "6. There are portions of this homework that are _very_ hard. We urge you start early to come to office hours and get help if you get stuck. But don't worry, I can see the future, and you all got this.\n",
        "\n",
        "With that said, let's dive in.\n",
        "\n",
        "\n"
      ]
    },
    {
      "cell_type": "code",
      "source": [
        "# As always, run this, restart, rerun\n",
        "!pip install pandas==1.1.5"
      ],
      "metadata": {
        "id": "PpCsXltQ9xId"
      },
      "execution_count": null,
      "outputs": []
    },
    {
      "cell_type": "markdown",
      "metadata": {
        "id": "7XEqGpEGBWs5"
      },
      "source": [
        "## Step 0: Set up EMR\n",
        "\n",
        "Follow the [AWS Academy Getting Started](https://docs.google.com/document/d/1JPitLGaorjTbXjGsaoIHcLTu2cj8rjm5UNr9bSpZ72k/edit?usp=sharing) instructions.\n",
        "\n",
        "Move on to Step 0.1 after you have completed all the steps in the document.\n",
        "\n",
        "![ACME GIANT RUBBER BAND](https://pbs.twimg.com/media/DRqbJh7UMAE2z4o?format=jpg&name=4096x4096)\n"
      ]
    },
    {
      "cell_type": "markdown",
      "metadata": {
        "id": "5iBPXxgAdXkv"
      },
      "source": [
        "### Step 0.1: The Superfluous Setup\n",
        "\n",
        "Run the following two cells. These will allow your colab notebook to connect to an use your EMR."
      ]
    },
    {
      "cell_type": "code",
      "metadata": {
        "id": "pvkEbVaaAQ1e"
      },
      "source": [
        "%%capture\n",
        "!apt update\n",
        "!apt install gcc python-dev libkrb5-dev\n",
        "!pip install sparkmagic\n",
        "!pip install penngrader\n"
      ],
      "execution_count": null,
      "outputs": []
    },
    {
      "cell_type": "code",
      "metadata": {
        "id": "6WAJmQ8IAbRs"
      },
      "source": [
        "%%capture\n",
        "%load_ext sparkmagic.magics "
      ],
      "execution_count": null,
      "outputs": []
    },
    {
      "cell_type": "markdown",
      "metadata": {
        "id": "CL6n768EPt9E"
      },
      "source": [
        "### Step 0.2: The Sharp Spark\n",
        "\n",
        "Now, connect your notebook to the EMR cluster you created. In the first cell, copy the link to the Master Public DNS specified in the setup document. You will need to add `http://` to the beginning of the address and the auth details to the end.\n",
        "\n",
        "For example, if my DNS (directly from the AWS EMR console) is `ec2-3-15-237-211.us-east-2.compute.amazonaws.com` my address would be,\n",
        "\n",
        "`http://ec2-3-15-237-211.us-east-2.compute.amazonaws.com -a cis545-livy -p password1 -t Basic_Access`\n",
        "\n",
        "Insert this in the `# TODO # below`. For our example, the cell would read,\n",
        "\n",
        "```\n",
        "%spark add -s spark_session -l python -u http://ec2-3-15-237-211.us-east-2.compute.amazonaws.com -a cis545-livy -p password1 -t Basic_Access\n",
        "```"
      ]
    },
    {
      "cell_type": "code",
      "metadata": {
        "id": "G9QbylT-jqX9"
      },
      "source": [
        "# TODO: Copy the line above, enter your Master Public DNS with the proper formatting and host, and update the password\n"
      ],
      "execution_count": null,
      "outputs": []
    },
    {
      "cell_type": "code",
      "metadata": {
        "id": "QwKAHhQL0lf7"
      },
      "source": [
        "# If you ever need to restart, you may need to...\n",
        "# %spark delete -s my_session\n",
        "#OR just factory reset runtime under the runtime tab"
      ],
      "execution_count": null,
      "outputs": []
    },
    {
      "cell_type": "markdown",
      "metadata": {
        "id": "6yzJetbCfgh3"
      },
      "source": [
        "### Step 0.3: Cluster Log\n",
        "\n",
        "In order to keep track of clusters you have created and terminated as well as give us information about time spent on this assignment, please enter each date and time you created a cluster and the date and time you terminated the cluster. This will not impact your score."
      ]
    },
    {
      "cell_type": "markdown",
      "metadata": {
        "id": "powXPhtphhyy"
      },
      "source": [
        "EX: \n",
        "\n",
        "10/12 9:00am - 10/12 12:00pm\n",
        "\n",
        "10/13 7:00pm - 10/13 9:00pm\n",
        "\n",
        "...\n",
        "    "
      ]
    },
    {
      "cell_type": "markdown",
      "metadata": {
        "id": "SokSZv4vih0c"
      },
      "source": [
        "TODO: Create cluster log"
      ]
    },
    {
      "cell_type": "markdown",
      "metadata": {
        "id": "v1IQjUwNObb8"
      },
      "source": [
        "Enter your 8-digit Penn Key as an integer in the cell \n",
        "below. This will be used in the autograder.  **Please also update the cell below, with the same ID!**"
      ]
    },
    {
      "cell_type": "code",
      "metadata": {
        "id": "7zM20juwqqQF"
      },
      "source": [
        "from penngrader.grader import *\n",
        "STUDENT_ID = 99999999"
      ],
      "execution_count": null,
      "outputs": []
    },
    {
      "cell_type": "code",
      "metadata": {
        "id": "V8Oo_5D7qoWp"
      },
      "source": [
        "grader = PennGrader(homework_id = 'CIS545_Spring_2022_HW3', student_id = STUDENT_ID)"
      ],
      "execution_count": null,
      "outputs": []
    },
    {
      "cell_type": "markdown",
      "metadata": {
        "id": "kvl5MJg6cLHr"
      },
      "source": [
        "**Please make sure you also update this one, so the grader can similarly be updated on Spark/EMR!**"
      ]
    },
    {
      "cell_type": "code",
      "metadata": {
        "id": "9NQjHLyKcL5H"
      },
      "source": [
        "%%spark\n",
        "from penngrader.grader import *\n",
        "STUDENT_ID = 99999999\n",
        "grader = PennGrader(homework_id = 'CIS545_Spring_2022_HW3', student_id = STUDENT_ID)"
      ],
      "execution_count": null,
      "outputs": []
    },
    {
      "cell_type": "markdown",
      "metadata": {
        "id": "Bfs-EQZUzF4j"
      },
      "source": [
        "Run the above cells to setup the autograder in BOTH the Spark session as well as locally, make sure to have set your 8 digit Penn ID in the cell above. It will also import all the modules you need for the homework.\n",
        "\n",
        "_Note_: Since we are using an EMR cluster we will only have access to some of modules that exist for Python, meaning things like `pandas`, `numpy`, etc. may not all be available. We have written the entire homework such that the solution does not require any of these."
      ]
    },
    {
      "cell_type": "markdown",
      "source": [
        "## Step 1: Data Wrangling, Cleaning, and Shaping\n",
        "\n",
        "It's football fever! We very recently witnessed Super Bowl LVI, in which Los Angeles Rams trumped the Cincinnati Bengals to clinch the title at their brand new home stadium. To continue the hype, we thought it would be exciting for you to work on NFL data and that's what we will be doing today.\n",
        "\n",
        "<br>\n",
        "\n",
        "![Winners](https://imagez.tmz.com/image/d6/4by3/2022/02/14/d62fc8c540c348c0aa75730b9c9a5b8d_md.jpg)\n",
        "\n",
        "<br>\n",
        "\n",
        "The data you will use is stored in an S3 bucket, a cloud storage service. You now need to download it onto the nodes of your [EMR cluster](https://docs.aws.amazon.com/emr/latest/ManagementGuide/emr-what-is-emr.html). "
      ],
      "metadata": {
        "id": "4nyAa0wn1XCD"
      }
    },
    {
      "cell_type": "markdown",
      "metadata": {
        "id": "Nf_ADEXnIK0b"
      },
      "source": [
        "### Step 1.1: The Stupendous Schema\n",
        "\n",
        "When loading data, Spark will try to infer its structure on its own. This process is faulty because Spark will sometimes infer the type incorrectly. Spark's ability to determine types is not reliable, thus you will need to define a schema for `basic_stats2.json` and `defensive3.json`.\n",
        "\n",
        "A schema is a description of the structure of data. We have given you an example with `defensive3.json` and you will be defining an explicit schema for `basic_stats2.json`. \n",
        "\n",
        "\n",
        "In Spark, schemas are defined using a `StructType` object. This is a collection of data types, termed `StructField`'s, that specify the structure and variable type of each component of the dataset. For example, suppose we have the following simple JSON object,\n",
        "\n",
        "\n",
        "```\n",
        "{\n",
        " \"student_name\": \"Data Wrangler\",\n",
        " \"GPA\": 1.4,\n",
        " \"courses\": [\n",
        "    {\"department\": \"Computer and Information Science\",\n",
        "     \"course_id\": \"CIS 545\",\n",
        "     \"semester\": \"Fall 2021\"},\n",
        "    {\"department\": \"Computer and Information Science\",\n",
        "     \"course_id\": \"CIS 555\",\n",
        "     \"semester\": \"Fall 2021\"}\n",
        " ],\n",
        " \"grad_year\": 2022\n",
        " }\n",
        "```\n",
        "\n",
        "We would define its schema as follows,\n",
        "\n",
        "```       \n",
        "schema = StructType([\n",
        "           StructField(\"student_name\", StringType(), nullable=True),\n",
        "           StructField(\"GPA\", FloatType(), nullable=True),\n",
        "           StructField(\"courses\", ArrayType(\n",
        "                StructType([\n",
        "                  StructField(\"department\", StringType(), nullable=True),\n",
        "                  StructField(\"course_id\", StringType(), nullable=True),\n",
        "                  StructField(\"semester\", StringType(), nullable=True)\n",
        "                ])\n",
        "           ), nullable=True),\n",
        "           StructField(\"grad_year\", IntegerType(), nullable=True)\n",
        "         ])\n",
        "```\n",
        "\n",
        "\n",
        "Each `StructField` has the following structure: `(name, type, nullable)`. The `nullable` flag defines that the specified field may be empty. Your first task is to define the `schema` of `basic_stats2.json`. You can take a look at the schema for `defensive3.json` for reference. A smaller version of the JSON dataset can be found here. [defensive3.json](https://drive.google.com/file/d/1B75g3-GEdrXTiWn9069bDwvIia9xQIQR/view?usp=sharing), [basic_stats2.json](https://drive.google.com/file/d/1aF4fnH4JI_r8wWN27qFdyjiXWOs4mlg9/view?usp=sharing).\n",
        "\n",
        "\n",
        "\n",
        "\n",
        "There is also no grading cell for this step.  But your JSON file won't load if it's wrong, so you have a way of testing.\n",
        "\n"
      ]
    },
    {
      "cell_type": "code",
      "metadata": {
        "id": "pL-Ps4KWIJ9e"
      },
      "source": [
        "%%spark\n",
        "\n",
        "from pyspark.sql.types import *\n",
        "\n",
        "#schema for defensive.json\n",
        "\n",
        "schema_defensive = StructType([\n",
        "                     \n",
        "                     StructField(\"Player Id\", StringType(), nullable = True),\n",
        "                     StructField(\"Name\", StringType(), nullable = True),\n",
        "                     StructField(\"Position\", StringType(), nullable = True),\n",
        "                     StructField(\"Year\", IntegerType(), nullable = True),\n",
        "                     StructField(\"Team\", StringType(), nullable = True),\n",
        "                     StructField(\"Games Played\", StringType(), nullable = True),\n",
        "                     StructField(\"Total Tackles\", StringType(), nullable = True),\n",
        "                     StructField(\"Solo Tackles\", StringType(), nullable = True),\n",
        "                     StructField(\"Assisted Tackles\", StringType(), nullable = True),\n",
        "                     StructField(\"Sacks\", StringType(), nullable = True),\n",
        "                     StructField(\"Safties\", StringType(), nullable = True),\n",
        "                     StructField(\"Passes Defended\", StringType(), nullable = True),\n",
        "                     StructField(\"Ints\", StringType(), nullable = True),\n",
        "                     StructField(\"Ints for TDs\", StringType(), nullable = True),\n",
        "                     StructField(\"Int Yards\", StringType(), nullable = True),\n",
        "                     StructField(\"Yards Per Int\", StringType(), nullable = True),\n",
        "                     StructField(\"Longest Int Return\", StringType(), nullable = True),            \n",
        "                ])\n",
        "\n",
        "\n",
        "#TODO: Create a schema for basic_stats2.json\n",
        "\n",
        "\n",
        "\n",
        "                    "
      ],
      "execution_count": null,
      "outputs": []
    },
    {
      "cell_type": "markdown",
      "metadata": {
        "id": "2Su604X9ggc2"
      },
      "source": [
        "### Step 1.2: The Langorous Load\n",
        "\n",
        "In the following cell, load the `basic_stats2.json` dataset and the `defensive3.json` from your S3 bucket into Spark dataframes (sdf) called `basic_stats_sdf` and `defensive_sdf` respectively. If you have constructed `schema1` and `schema2` correctly, `spark.read.json()` will read in the dataset. \n",
        "\n",
        "***You do not need to edit this cell***. If this doesn't work, go back to the prior cell and update your schema."
      ]
    },
    {
      "cell_type": "code",
      "metadata": {
        "id": "ji-KW2sAiB6r"
      },
      "source": [
        "%%spark\n",
        "\n",
        "defensive_stats_sdf = spark.read.json(\"s3://penn-cis545-files/defensive3.json\", schema=schema_defensive, multiLine = True, primitivesAsString = True)\n"
      ],
      "execution_count": null,
      "outputs": []
    },
    {
      "cell_type": "code",
      "metadata": {
        "id": "nvurIgjLkdZL"
      },
      "source": [
        "%%spark\n",
        "# Let's print out the first few rows to see how the data looks like in tabular form\n",
        "defensive_stats_sdf.show(5)"
      ],
      "execution_count": null,
      "outputs": []
    },
    {
      "cell_type": "code",
      "source": [
        "%%spark\n",
        "\n",
        "#TODO: Create a spark dataframe for basic_stats2\n"
      ],
      "metadata": {
        "id": "8DIpp8P8NM7t"
      },
      "execution_count": null,
      "outputs": []
    },
    {
      "cell_type": "markdown",
      "metadata": {
        "id": "jMVCVotcE1wv"
      },
      "source": [
        "The cell below shows how to run SQL commands on Spark tables. Use this as a template for all your SQL queries in this notebook. \n",
        "\n",
        "***You do not need to edit this cell***."
      ]
    },
    {
      "cell_type": "code",
      "metadata": {
        "id": "NJSVWeGiEO5c"
      },
      "source": [
        "%%spark\n",
        "\n",
        "import pandas as pd\n",
        "\n",
        "# Create SQL-accesible table\n",
        "basic_stats_sdf.createOrReplaceTempView(\"basic_stats\")\n",
        "\n",
        "# Declare SQL query to be excecuted\n",
        "query = '''SELECT * \n",
        "           FROM basic_stats ORDER BY `Player Id` LIMIT 10'''\n",
        "\n",
        "# Save the output sdf of spark.sql() as answer_sdf and convert to Pandas\n",
        "answer_basic_sdf = spark.sql(query)\n",
        "answer_basic_sdf.show()\n",
        "\n",
        "answer_basic_df = answer_basic_sdf.toPandas()\n",
        "to_submit = pd.read_json(answer_basic_df.to_json())"
      ],
      "execution_count": null,
      "outputs": []
    },
    {
      "cell_type": "markdown",
      "metadata": {
        "id": "MLF-swRBTuZG"
      },
      "source": [
        "We will copy the `answer_sdf` to Colab to submit to PennGrader..."
      ]
    },
    {
      "cell_type": "code",
      "source": [
        "%%spark\n",
        "\n",
        "## 4 points\n",
        "\n",
        "## AUTOGRADER Step 1.2:   \n",
        "\n",
        "grader.grade(test_case_id = 'first', answer = to_submit)"
      ],
      "metadata": {
        "id": "wOyxJ6aORvs6"
      },
      "execution_count": null,
      "outputs": []
    },
    {
      "cell_type": "markdown",
      "source": [
        "Now, you will implement the exact same thing yourself for defensive_stats_sdf."
      ],
      "metadata": {
        "id": "-A9nzeVaG4QV"
      }
    },
    {
      "cell_type": "code",
      "source": [
        "%%spark\n",
        "\n",
        "# TODO: Create SQL-accesible table\n",
        "\n",
        "\n",
        "#TODO: Declare SQL query to be excecuted\n",
        "\n",
        "\n",
        "#TODO: Save the output sdf of spark.sql() as answer_defensive_sdf and convert to Pandas\n"
      ],
      "metadata": {
        "id": "-TGpKgWrG3DC"
      },
      "execution_count": null,
      "outputs": []
    },
    {
      "cell_type": "code",
      "source": [
        "%%spark\n",
        "\n",
        "## 4 points\n",
        "\n",
        "## AUTOGRADER Step 1.2:   \n",
        "\n",
        "grader.grade(test_case_id = 'second', answer = to_submit)"
      ],
      "metadata": {
        "id": "sfVITUBotr73"
      },
      "execution_count": null,
      "outputs": []
    },
    {
      "cell_type": "markdown",
      "metadata": {
        "id": "705XndyQYW6f"
      },
      "source": [
        "In the next cell, create `step_1_2_sdf` to fetch the data from the above basic_stats table, returning rows with schema `(Player Id, Name)`, in **lexicographical order** of `Name`.  Limit your sdf to 10 rows. Save your final answer to Colab to submit to PennGrader, as demonstrated above."
      ]
    },
    {
      "cell_type": "code",
      "metadata": {
        "id": "zOpHsWR2qQAY"
      },
      "source": [
        "%%spark \n",
        "\n",
        "# TODO: create step_1_2_sdf\n"
      ],
      "execution_count": null,
      "outputs": []
    },
    {
      "cell_type": "code",
      "metadata": {
        "id": "p4hU1ihWYjL6"
      },
      "source": [
        "%%spark\n",
        "\n",
        "# 5 points\n",
        "grader.grade(test_case_id = 'lex_10_ids_last_names', answer = step_1_2_sdf.toPandas())"
      ],
      "execution_count": null,
      "outputs": []
    },
    {
      "cell_type": "markdown",
      "source": [
        "### Step 1.3: Further Cleaning\n",
        "\n",
        "Now, we can see that our data is a little ill-formatted, so let us do some cleaning for our two dataframes. Here is what you will do:\n",
        "\n",
        "For Defensive:\n",
        "\n",
        "1. Drop all the rows that have null values in Total Tackles and Games Played.\n",
        "2. We only want to consider data post 2000 (inclusive).\n",
        "\n",
        "\n",
        "Save this in `defensive_cleaned_sdf`.\n",
        "\n",
        "Once you have done that, we want to select the basic stats only for those filtered players in `defensive_cleaned_sdf` and create a cumulated dataframe called `defensive_player_stats_sdf`."
      ],
      "metadata": {
        "id": "-2vq-3ZfBYZD"
      }
    },
    {
      "cell_type": "code",
      "source": [
        "%%spark\n",
        "\n",
        "#TODO: Create defensive_cleaned_sdf\n"
      ],
      "metadata": {
        "id": "0G7tYJOJDp1q"
      },
      "execution_count": null,
      "outputs": []
    },
    {
      "cell_type": "code",
      "source": [
        "%%spark\n",
        "\n",
        "# 4 points\n",
        "grader.grade(test_case_id = 'defensive_cleaned', answer = defensive_cleaned_sdf.toPandas())"
      ],
      "metadata": {
        "id": "nqflA81xVKoo"
      },
      "execution_count": null,
      "outputs": []
    },
    {
      "cell_type": "code",
      "source": [
        "%%spark\n",
        "\n",
        "#TODO: Create defensive_player_stats_sdf\n"
      ],
      "metadata": {
        "id": "Ot-WaWfYNO7t"
      },
      "execution_count": null,
      "outputs": []
    },
    {
      "cell_type": "code",
      "source": [
        "%%spark\n",
        "\n",
        "# 4 points\n",
        "grader.grade(test_case_id = 'defensive_player_stats', answer = defensive_player_stats_sdf.toPandas())"
      ],
      "metadata": {
        "id": "1HO4WgzDXhql"
      },
      "execution_count": null,
      "outputs": []
    },
    {
      "cell_type": "markdown",
      "source": [
        "## Step 2: Analysis!"
      ],
      "metadata": {
        "id": "CsLea-1Tyu0v"
      }
    },
    {
      "cell_type": "markdown",
      "metadata": {
        "id": "svOO4iLPist4"
      },
      "source": [
        "### Step 2.1: The Robust Ratio\n",
        "\n",
        "Now, we are interested in seeing the player with the highest total tackles / games played ratio from each team for each year and their corresponding experience. This involves derieving data from both the dataframes we created just now.\n",
        "\n",
        "Your task is to first find the player with the highest ratio for each team per year from the defensive_player_stats_df, and then join that with the basic_stats_df to find the experience of that player.\n",
        "\n",
        "Create an sdf called `best_tackles_sdf` that contains the above information. Then, make sure to only retain data pertaining to Name, player Id, Year, tackle_ratio, and experience. \n",
        "\n",
        "Remember we will sort the dataframe when grading so you can sort the elements however you wish (you don't need to if you don't want to). \n"
      ]
    },
    {
      "cell_type": "code",
      "metadata": {
        "id": "Kt16tyP0klQX"
      },
      "source": [
        "%%spark\n",
        "\n",
        "# TODO: Create best_tackles_sdf\n",
        "\n",
        "\n",
        "# Compute the values for solo tackles / games\n",
        "\n",
        "\n",
        "# Find the player with the highest ratio for each team\n",
        "\n",
        "\n"
      ],
      "execution_count": null,
      "outputs": []
    },
    {
      "cell_type": "code",
      "metadata": {
        "id": "-a3xLDEYCcwl"
      },
      "source": [
        "%%spark\n",
        "# Print out the first few rows to see if the dataframe looks reasonable\n",
        "best_tackles_sdf.show(4)"
      ],
      "execution_count": null,
      "outputs": []
    },
    {
      "cell_type": "code",
      "metadata": {
        "id": "LTukZvW9Pj04"
      },
      "source": [
        "%%spark\n",
        "\n",
        "# 10 points\n",
        "grader.grade(test_case_id = 'tackle_ratio', answer = best_tackles_sdf.toPandas())"
      ],
      "execution_count": null,
      "outputs": []
    },
    {
      "cell_type": "markdown",
      "metadata": {
        "id": "MCcU96OwwqT1"
      },
      "source": [
        "\n",
        "### Step 2.2: The Tremendous Tackles\n",
        "\n",
        "Your task is to answer the following questions: \n",
        "\n",
        "1. Which team has the player which the best ratio? Save their ID to the variable `highest_tackle_ratio_person`.\n",
        "2. Which team has the total highest ratio? Save this to the variable `highest_tackle_ratio_team`\n",
        "3. For each player who has played for more than a year, what is the percentage change in their ratio from the first year they played to the last year they played? Save this df in `percentage_change_sdf`, and make sure to order by ID. This DF should just contain two columns- percentage change and ID, as shown below.\n",
        "\n",
        "```\n",
        "+-------------------+--------------------+\n",
        "|  Percentage Change|                  ID|\n",
        "+-------------------+--------------------+\n",
        "|                   |                    |\n",
        "+-------------------+--------------------+\n",
        "```"
      ]
    },
    {
      "cell_type": "code",
      "metadata": {
        "id": "vLTmvD9WNQH3"
      },
      "source": [
        "%%spark\n",
        "\n",
        "#TODO: highest_tackle_ratio_person\n",
        "\n",
        "#TODO: highest_tackle_ratio_team\n",
        "\n"
      ],
      "execution_count": null,
      "outputs": []
    },
    {
      "cell_type": "code",
      "metadata": {
        "id": "a6Ot6rFKUrH3"
      },
      "source": [
        "%%spark\n",
        "\n",
        "# 2 points\n",
        "grader.grade(test_case_id = 'best_player', answer = highest_tackle_ratio_person)"
      ],
      "execution_count": null,
      "outputs": []
    },
    {
      "cell_type": "code",
      "source": [
        "%%spark\n",
        "\n",
        "# 2 points\n",
        "grader.grade(test_case_id = 'best_team', answer = highest_tackle_ratio_team)"
      ],
      "metadata": {
        "id": "YZa4prSwQUJQ"
      },
      "execution_count": null,
      "outputs": []
    },
    {
      "cell_type": "code",
      "source": [
        "%%spark\n",
        "\n",
        "#TODO Create % change table\n",
        "\n",
        "\n"
      ],
      "metadata": {
        "id": "NyVBZzE9Zg-G"
      },
      "execution_count": null,
      "outputs": []
    },
    {
      "cell_type": "code",
      "metadata": {
        "id": "SzCb93YH7BcB"
      },
      "source": [
        "%%spark\n",
        "\n",
        "# Let's visualize the results\n",
        "percentage_change_sdf.show(20)"
      ],
      "execution_count": null,
      "outputs": []
    },
    {
      "cell_type": "code",
      "metadata": {
        "id": "W3MZT21Qp5Fk"
      },
      "source": [
        "%%spark\n",
        "\n",
        "## AUTOGRADER Step 2.2: ##\n",
        "percentage_change_sdf.createOrReplaceTempView(\"test_2_2\")\n",
        "test_2_2_sdf = spark.sql(\"SELECT * FROM test_2_2 ORDER BY ID\")"
      ],
      "execution_count": null,
      "outputs": []
    },
    {
      "cell_type": "code",
      "metadata": {
        "id": "S8i_bc6bU93w"
      },
      "source": [
        "%%spark\n",
        "\n",
        "# 12 points\n",
        "grader.grade(test_case_id = 'percentage_change', answer = test_2_2_sdf.toPandas())"
      ],
      "execution_count": null,
      "outputs": []
    },
    {
      "cell_type": "markdown",
      "metadata": {
        "id": "VZIfJGqDqKzX"
      },
      "source": [
        "## 2.3 The Blessed Break\n",
        "\n",
        "That last section was hard. And it's gonna get harder. Take a break. Sit back and relax for a minute. Listen to some music. Here's a [suggestion](https://www.youtube.com/watch?v=A3yCcXgbKrE).\n",
        "\n",
        "In the cell below fill out the boolean variable `whatd_you_think` with `True` if you liked it or `False` if you didn't. You will be graded on your response."
      ]
    },
    {
      "cell_type": "code",
      "metadata": {
        "id": "WkA0_E2485jy"
      },
      "source": [
        "whatd_you_think = # TODO"
      ],
      "execution_count": null,
      "outputs": []
    },
    {
      "cell_type": "code",
      "metadata": {
        "id": "4lS-XkWl2deZ"
      },
      "source": [
        "# 1 point\n",
        "grader.grade(test_case_id = 'tunes', answer = whatd_you_think)"
      ],
      "execution_count": null,
      "outputs": []
    },
    {
      "cell_type": "markdown",
      "metadata": {
        "id": "QkF2RfLSXO0u"
      },
      "source": [
        "## Step 3: Formatting the Time Series Data\n",
        "\n",
        "\n",
        "Our overarching goal is to create an annual time series model that will use the highest tackle ratio per year for each team to predict the highest tackle ratio for that team over the next season. The model is trained on a set of observations. Each observation contains the team name, and the highest tackle ratios for each year from 2001 to 2016. \n",
        "\n",
        "```\n",
        "+----+-----+----------+---------+----------+---\n",
        "|Team |2001 |...  |2008 |2009 |   ...   |2016 |\n",
        "+----+-----+----------+---------+----------+---\n",
        "|TEN  |...  |...  |...  |...  |   ...   |...  |\n",
        "|SF   |...  |...  |...  |...  |   ...   |...  |\n",
        "|...  |...  |...  |...  |...  |   ...   |...  |\n",
        "+----+-----+----------+---------+----------+---\n",
        "```\n"
      ]
    },
    {
      "cell_type": "markdown",
      "source": [
        "\n",
        "### Step 3.1: The Annual Arrangement\n",
        "\n",
        "Your first task is to create the time series table, i.e. the `2001` through `2016` columns. This will involve reshaping `best_tackles_sdf`. Currently, `best_tackles_sdf` has columns `ID`, `Name`, `Team`, `Ratio` and `Year`. We want to group the rows together based on common `Team` and create new columns for the Ratio corresponding to each year.\n",
        "\n",
        "Create an sdf called `raw_tackles_time_series_sdf` that has for a single team, the highest tackle ratio in 2001 through 2016. It is ok if for a given team you don't have a given year. However, ensure that for a given team, each year column has an entry, i.e. if no Ratio value is present for the year, the entry for that year column should be `0`. The format of the sdf is shown below: \n",
        "```\n",
        "+----+-----+----------+---------+----------+----------+-------\n",
        "|Team                |2001 |...  |2008 |2009 |   ...   |2016 |\n",
        "+----+-----+----------+---------+----------+----------+-------\n",
        "|Tennessee Titans    |...  |...  |...  |...  |   ...   |...  |\n",
        "|San Francisco 49ers |...  |...  |...  |...  |   ...   |...  |\n",
        "|...                 |...  |...  |...  |...  |   ...   |...  |\n",
        "+----+-----+----------+---------+----------+----------+-------\n",
        "```\n",
        "_Hint_: This is a **fiddly and somewhat difficult** question. The tricky part is creating the additional columns of annual ratios, specifically when there are missing years. \n",
        "\n",
        "We suggest you look into `CASE` and `WHEN` statements in the [function list](https://spark.apache.org/docs/2.3.0/api/sql/index.html), and use these to **either** fill in a number for column (if appropriate) or put in a 0."
      ],
      "metadata": {
        "id": "KzEa-C36_x45"
      }
    },
    {
      "cell_type": "code",
      "metadata": {
        "id": "btp2wboHqg2J"
      },
      "source": [
        "%%spark\n",
        "\n",
        "# TODO: Create [raw_tackles_time_series_sdf]\n",
        "\n",
        "# CASE() statements are SQL's equivalent of if else statements. WHEN a CASE is\n",
        "# true THEN we define a function. ELSE we do another function and then END the\n",
        "# statement.\n",
        "\n",
        "# The query is a GROUP BY. We group data based on the same team, as in the\n",
        "# previous step. We then do a CASE statement. This will seperate out the sets of\n",
        "# data corresponding to the same year using the 'Year' volumn in the WHEN clause.\n",
        "# If we have a piece of data, it will be the Ratio value for a given team in \n",
        "# a given year and we will save it with a corresponding column name. If there is\n",
        "# no piece of data here, as per the question, we need to add a 0. This is the\n",
        "# ELSE clause. Lastly, we do a SUM() to find the final Ratio.\n",
        "\n",
        "\n",
        "\n",
        "# Define and save raw_tackles_time_series_sdf\n"
      ],
      "execution_count": null,
      "outputs": []
    },
    {
      "cell_type": "code",
      "metadata": {
        "id": "WRMSunHVq296"
      },
      "source": [
        "%%spark\n",
        "\n",
        "## AUTOGRADER Step 3.1: ##\n",
        "\n",
        "raw_tackles_time_series_sdf.createOrReplaceTempView(\"test_3_1\")\n",
        "test_3_1_sdf = spark.sql(\"SELECT * FROM test_3_1 ORDER BY Team DESC, LIMIT 10\")"
      ],
      "execution_count": null,
      "outputs": []
    },
    {
      "cell_type": "code",
      "metadata": {
        "id": "NluLbb4HX5AS"
      },
      "source": [
        "%%spark\n",
        "\n",
        "# 14 points\n",
        "grader.grade(test_case_id = 'arrangement', answer = test_3_1_sdf.toPandas())"
      ],
      "execution_count": null,
      "outputs": []
    },
    {
      "cell_type": "markdown",
      "source": [
        "### Step 3.2 The Clairvoyant Cleaning\n",
        "\n",
        "We now want to format the `Team` names to an appropriate abbreviation. The formatting will consist of 2 steps."
      ],
      "metadata": {
        "id": "KZRuAU0XI84l"
      }
    },
    {
      "cell_type": "markdown",
      "metadata": {
        "id": "0DdnoFkP7mxz"
      },
      "source": [
        "#### Step 3.2.1 The Ubiquitous UDF\n",
        "\n",
        "The teams in our dataset are defined by their full names. We think that it would be *cleaner* to have names represented by using abbreviations. Often times when using Spark, there may not be a built-in SQL function that can do the operation we desired. Instead, we can create one on our own with a user-defined function (udf).\n",
        "\n",
        "A udf is defined as a normal Python function and then registered to be used as a Spark SQL function. Your task is to create a udf, `NAME_TO_ABBV()` that will convert the `Team` field in `raw_tackles_time_series_sdf` to their appropriate abbreviations. This will be done using the provided `name_to_abbv_dict` dictionary. We are only interested in the teams in that dictionary.\n",
        "\n",
        "Fill out the function `name_to_abbv()` below. Then use `spark.udf.register()` to register it as a SQL function. The command is provided. ***You do not need to edit it***. Note, we have defined the udf as returning `StringType()`. Ensure that your function returns this. You must also deal with any potential `null` cases."
      ]
    },
    {
      "cell_type": "code",
      "metadata": {
        "id": "P4cJWZsr8iNC"
      },
      "source": [
        "%%spark\n",
        "\n",
        "# Dictionary linking stock ticker symbols to their names\n",
        "name_to_abbv_dict = {'Tennessee Titans': 'TEN',\n",
        "                     'Denver Broncos': 'DEN',\n",
        "                     'Green Bay Packers': 'GBP',\n",
        "                     'Pittsburgh Steelers': 'PIT',\n",
        "                     'Chicago Bears': 'CHI',\n",
        "                     'Philadelphia Eagles': 'PHI',\n",
        "                     'Indianapolis Colts': 'IND',\n",
        "                     'Arizona Cardinals': 'ARI',\n",
        "                     'Seattle Seahawks': 'SEA',\n",
        "                     'Baltimore Ravens': 'BAR',\n",
        "                     'Carolina Panthers': 'CAR',\n",
        "                     'Kansas City Chiefs': 'KAN',\n",
        "                     'Oakland Raiders': 'OAK',\n",
        "                     'St. Louis Rams': 'SLR',\n",
        "                     'Atlanta Falcons': 'ATL',\n",
        "                     'New Orleans Saints': 'NOS',\n",
        "                     'San Francisco 49ers': 'SFF',\n",
        "                     'New England Patriots': 'NEP',\n",
        "                     'Buffalo Bills': 'BUF',\n",
        "                     'Los Angeles Rams': 'LAR',\n",
        "                     'Dallas Cowboys': 'DAL',\n",
        "                     'Minnesota Vikings': 'MIN',\n",
        "                     'Detroit Lions': 'DET',\n",
        "                     'Washington Redskins': 'WAS',\n",
        "                     'Jacksonville Jaguars': 'JAC',\n",
        "                     'New York Giants': 'NYG',\n",
        "                     'Tampa Bay Buccaneers': 'TBB',\n",
        "                     'Cleveland Browns': 'CLE',\n",
        "                     'Houston Texans': 'HOT',\n",
        "                     'Los Angeles Raiders': 'LOS',\n",
        "                     'Miami Dolphins': 'MIA',\n",
        "                     'Houston Oilers': 'HOU',\n",
        "                     'Cincinnati Bengals': 'CIN',\n",
        "                     'San Diego Chargers': 'SDC',\n",
        "                     'Tennessee Oilers': 'TEO',\n",
        "                     'New York Jets': 'NYJ',\n",
        "                     'Phoenix Cardinals': 'PHO',\n",
        "                     'St. Louis Cardinals': 'SLC',\n",
        "                     'Baltimore Colts': 'BAC'}\n",
        "\n",
        "# TODO: Fill out [name_to_abbv()] and register it as a udf.\n",
        "# Fill out name_to_abbv()\n",
        "\n",
        "# In UDFs we have to cover all possible output cases, or else the function will\n",
        "# crash. Specifically, this means we need to handle the case when \"name\" is\n",
        "# not in \"name_to_abbv_dict\". We use a try and except statement to return null\n",
        "# for this case.\n",
        "\n",
        "def name_to_abbv(name):\n",
        "\n",
        "  \n",
        "\n",
        "# Register udf as a SQL function. DO NOT EDIT\n",
        "spark.udf.register(\"NAME_TO_ABBV\", name_to_abbv, StringType())\n"
      ],
      "execution_count": null,
      "outputs": []
    },
    {
      "cell_type": "markdown",
      "metadata": {
        "id": "LSM0mzPRaKKr"
      },
      "source": [
        "Submit a tuple to the autograder for the ticker value of San Franscisco 49ers and Washington Commanders. If the name value in the table, set it to a string equal to \"None\""
      ]
    },
    {
      "cell_type": "code",
      "metadata": {
        "id": "NkdrFilOtKqx"
      },
      "source": [
        "%%spark\n",
        "\n",
        "## AUTOGRADER Step 3.2.1: ##\n",
        "\n",
        "print((str(name_to_abbv(\"San Francisco 49ers\")),str(name_to_abbv(\"Washington Commanders\"))))\n",
        "to_submit = ((str(name_to_abbv(\"San Francisco 49ers\")),str(name_to_abbv(\"Washington Commanders\"))))"
      ],
      "execution_count": null,
      "outputs": []
    },
    {
      "cell_type": "code",
      "metadata": {
        "id": "BA95n1lpZ4yy"
      },
      "source": [
        "%%spark\n",
        "\n",
        "# 2 points\n",
        "grader.grade(test_case_id = 'clairvoyant', answer = to_submit)"
      ],
      "execution_count": null,
      "outputs": []
    },
    {
      "cell_type": "markdown",
      "metadata": {
        "id": "u9YOYO9L-_GS"
      },
      "source": [
        "#### Step 3.2.2: The Clean Conversion\n",
        "\n",
        "With our new `NAME_TO_ABBV()` function we will begin to wrangle `raw_tackles_time_series_sdf`.\n",
        "\n",
        "Create an sdf called `tackles_time_series_sdf` as follows. Convert all the team names in `raw_tackles_time_series_sdf` to the appropriate abbreviations and save it as `Team`. Drop any team abbreviations that do not appear in `name_to_abbv_dict`. Using .dropna() is acceptable instead of IS NOT NULL. The final df should be in the format shown below:\n",
        "\n",
        "```\n",
        "+----+-----+----------+---------+----------+----------+--\n",
        "|Team |2000 |2001 |   ...   |2008 |2009 |   ...   |2016 |\n",
        "+----+-----+----------+---------+----------+----------+--\n",
        "|TEN  |...  |...  |   ...   |...  |...  |   ...   |...  |\n",
        "|SFF  |...  |...  |   ...   |...  |...  |   ...   |...  |\n",
        "|...  |...  |...  |   ...   |...  |...  |   ...   |...  |\n",
        "+----+-----+----------+---------+----------+----------+--\n",
        "```"
      ]
    },
    {
      "cell_type": "code",
      "metadata": {
        "id": "RuiitnWlBYJ7"
      },
      "source": [
        "%%spark\n",
        "\n",
        "# Format the \"Team\" column using our UDF, NAME_TO_ABBV.\n",
        "# TODO: Create [tackles_time_series_sdf]\n",
        "\n",
        "\n",
        "\n",
        "# Define and save tackles_time_series_sdf\n",
        "\n"
      ],
      "execution_count": null,
      "outputs": []
    },
    {
      "cell_type": "code",
      "metadata": {
        "id": "qBm-D6FXtdv6"
      },
      "source": [
        "%%spark\n",
        "\n",
        "## AUTOGRADER Step 3.2.2: ##\n",
        "\n",
        "tackles_time_series_sdf.createOrReplaceTempView(\"test_3_2_2\")\n",
        "test_3_2_2_sdf = spark.sql(\"SELECT * FROM test_3_2_2 ORDER BY Team LIMIT 10\")"
      ],
      "execution_count": null,
      "outputs": []
    },
    {
      "cell_type": "code",
      "metadata": {
        "id": "ghKZ3HHOaXIq"
      },
      "source": [
        "%%spark\n",
        "\n",
        "# 10 points\n",
        "grader.grade(test_case_id = 'conversion', answer = test_3_2_2_sdf.toPandas())"
      ],
      "execution_count": null,
      "outputs": []
    },
    {
      "cell_type": "markdown",
      "source": [
        "And there you go! Now we have formatted a simple time series dataset for the highest tackle ratios of all teams."
      ],
      "metadata": {
        "id": "VvDlOG74JPl7"
      }
    },
    {
      "cell_type": "markdown",
      "metadata": {
        "id": "ZnwHS5-kPtVl"
      },
      "source": [
        "## Step 4: The Super... Bacon?\n",
        "\n",
        "Let's introduce a fun little concept called the Bacon Number! The Bacon number of an actor or actress is the number of degrees of separation they have from actor Kevin Bacon, as defined by the game known as Six Degrees of Kevin Bacon. For example, Kevin Bacon's Bacon number is 0. If an actor works in a movie with Kevin Bacon, the actor's Bacon number is 1. If an actor works with an actor who worked with Kevin Bacon in a movie, the first actor's Bacon number is 2, and so forth.\n",
        "\n",
        "How do we implement this for NFL though? Let's use a dataset specifically based on the history of the Super Bowl, and find a number we're calling \"The Super Bacon.\" We define this number as follows: if team A has beaten team B, and team B has beaten team C, then the super bacon of C with respect to A will be 2.\n",
        "\n",
        "Now to calculate this number, we'll use the concepts of graphs and BFS!\n"
      ]
    },
    {
      "cell_type": "markdown",
      "source": [
        "*For this section, we will be using Pyspark instead of Spark on the EMR cluster. The syntax remains the same, except you don't need to use the `%%spark` call at the top of each code cell.\n",
        "Run the setup cells for Pyspark below.*"
      ],
      "metadata": {
        "id": "VPOLIiHpYr86"
      }
    },
    {
      "cell_type": "code",
      "source": [
        "!pip install pyspark"
      ],
      "metadata": {
        "id": "nlrk--6d_6p7"
      },
      "execution_count": null,
      "outputs": []
    },
    {
      "cell_type": "code",
      "source": [
        "from pyspark.sql import SparkSession\n",
        "\n",
        "appName = \"PySpark\"\n",
        "\n",
        "# Create Spark session\n",
        "spark = SparkSession.builder.appName(appName).getOrCreate()\n"
      ],
      "metadata": {
        "id": "VGEag3L-3cp8"
      },
      "execution_count": null,
      "outputs": []
    },
    {
      "cell_type": "markdown",
      "source": [
        "### 4.1 “Traversing” a Graph\n",
        "\n",
        "Before we jump to finding the Super Bacons for the teams, let's review how BFS works."
      ],
      "metadata": {
        "id": "LK-JxKe0xBvS"
      }
    },
    {
      "cell_type": "code",
      "source": [
        "import pandas as pd\n",
        "from IPython.display import Image as I\n",
        "\n",
        "bfsgif =\\\n",
        "'https://upload.wikimedia.org/wikipedia/commons/5/5d/Breadth-First-S'+\\\n",
        "'earch-Algorithm.gif'\n",
        "dfsgif=\\\n",
        "'https://upload.wikimedia.org/wikipedia/commons/7/7f/Depth-First-Search.gif'\n"
      ],
      "metadata": {
        "id": "GT6WJwy5vK_G"
      },
      "execution_count": null,
      "outputs": []
    },
    {
      "cell_type": "markdown",
      "source": [
        "\n",
        "#### 4.1.1 Intro to Distributed Breadth-First Search\n",
        "\n",
        "\n",
        "To start off, we will be implementing a graph traversal algorithm known as Breadth First Search. It works in a way that's equivalent to how a stain spreads on a white t-shirt. Take a look at the graph below:\n",
        "\n",
        "<p align = \"center\">\n",
        "<img src = \"https://imgur.com/WU3AUwg.png\" width= \"600\" align =\"center\"/>\n",
        "\n",
        "* Consider starting BFS from point A (green). This is considered the starting frontier/singular origin node.\n",
        "* The first round of BFS would involve finding all the nodes directly reachable from A, namely B-F (blue circles). These blue nodes make up the next frontier at depth 1 away from our starting node A.\n",
        "* The second round would then be identifying the red nodes which are the neighbors of the blue nodes. Now, the red nodes all belong to a frontier 2 depth away from A. Note that node A is also a neighbor of a blue node. However, since it has already been visited, it does not get added to this frontier.\n",
        "\n",
        "This process continues until all the nodes in the graph have been visited.\n",
        "If you would like to learn more about BFS, we highly suggest looking [here](https://www.tutorialspoint.com/data_structures_algorithms/breadth_first_traversal.html).\n",
        "\n",
        "\n",
        "We will now be implementing **spark_bfs(G, N, d)**, our spark flavor of BFS that takes a graph **G**, a set of origin nodes **N**, and a max depth **d**.\n",
        "\n",
        "In order to write a successful BFS function, you are going to need to figure out \n",
        "1. how to keep track of nodes that we have visited\n",
        "2. how to properly find all the nodes at the next depth\n",
        "3. how to avoid cycles and ensure that we do not constantly loop through the same edges (take a look at J-K in the graph)\n"
      ],
      "metadata": {
        "id": "wpanImv_x2l9"
      }
    },
    {
      "cell_type": "markdown",
      "source": [
        "#### [OPTIONAL/ADDITIONAL] BFS vs. DFS Animation \n",
        "Run the code cells below to understand the difference between depth and breadth first search! (Source: Wikimedia Commons)"
      ],
      "metadata": {
        "id": "I9QtEcHJyFTK"
      }
    },
    {
      "cell_type": "code",
      "source": [
        "# NOT GRADED\n",
        "print('BFS:')\n",
        "I(url=bfsgif)"
      ],
      "metadata": {
        "id": "KOOmbVszx2gu"
      },
      "execution_count": null,
      "outputs": []
    },
    {
      "cell_type": "code",
      "source": [
        "#NOT GRADED\n",
        "print('DFS:')\n",
        "I(url=dfsgif)"
      ],
      "metadata": {
        "id": "Aq2JPO0iyN4g"
      },
      "execution_count": null,
      "outputs": []
    },
    {
      "cell_type": "markdown",
      "source": [
        "#### 4.1.2 Implement One Traversal\n",
        "\n",
        "To break down this process, let's think about how we would implement a single traversal of the graph. That is given the green node in the graph above, how are we going to get the blue nodes?\n",
        "\n",
        "\n",
        "Consider the simple graph below **which is different from the graph in the image above**:"
      ],
      "metadata": {
        "id": "wp6kU4RWyQw4"
      }
    },
    {
      "cell_type": "code",
      "source": [
        "spark.conf.set(\"spark.sql.execution.arrow.enabled\", \"true\")\n",
        "\n",
        "simple = [('A', 'B'),\n",
        "         ('A', 'C'),\n",
        "         ('A', 'D'),\n",
        "         ('C', 'F'),\n",
        "         ('F', 'A'),\n",
        "         ('B', 'G'),\n",
        "         ('G', 'H'),\n",
        "         ('D', 'E')]\n",
        "\n",
        "simple_dict = {'from_node': ['A', 'A', 'A', 'C', 'F', 'B', 'G', 'D'],\n",
        "       'to_node': ['B', 'C', 'D', 'F', 'A', 'G', 'H', 'E']}\n",
        "\n",
        "simple_graph_df = pd.DataFrame.from_dict(simple_dict)\n",
        "simple_graph_sdf = spark.createDataFrame(simple_graph_df)\n",
        "simple_graph_sdf.show()"
      ],
      "metadata": {
        "id": "VZV6fQIxyaww"
      },
      "execution_count": null,
      "outputs": []
    },
    {
      "cell_type": "markdown",
      "source": [
        "As you can see, each row of this dataframe represents an edge between two nodes Here, we are looking at a **directed graph**, which means that A-->B  does not represent the same edge as B-->A.\n",
        "\n",
        "Let's define our starting node as follows:"
      ],
      "metadata": {
        "id": "MQuo6wH-yr9D"
      }
    },
    {
      "cell_type": "code",
      "source": [
        "smallOrig = [{'node': 'A'}]"
      ],
      "metadata": {
        "id": "jmaJlqRuzEEv"
      },
      "execution_count": null,
      "outputs": []
    },
    {
      "cell_type": "markdown",
      "source": [
        "Then, bfs with graph G, starting from smallOrig to depth 1, or  **spark_bfs(G, smallOrig, 1)** would output as follows:"
      ],
      "metadata": {
        "id": "g6hLLqHdzHmy"
      }
    },
    {
      "cell_type": "code",
      "source": [
        "simple_1_round_dict = {'node': ['B', 'D', 'C', 'A'],\n",
        "       'distance': [1, 1, 1, 0]}\n",
        "simple_1_round_bfs_df = pd.DataFrame.from_dict(simple_1_round_dict)\n",
        "simple_1_round_bfs_sdf = spark1.createDataFrame(simple_1_round_bfs_df)\n",
        "simple_1_round_bfs_sdf.show()"
      ],
      "metadata": {
        "id": "MSWF2e-YzIud"
      },
      "execution_count": null,
      "outputs": []
    },
    {
      "cell_type": "markdown",
      "source": [
        "As you can see, this dataframe logs each node with its corresponding distance away from A. Moreover, we also know that these nodes are **visited**. \n",
        "\n",
        "Hopefully, you can see how we can use our original graph and this new information to find the nodes at depth two. \n",
        "\n",
        "This is exactly what we will try to accomplish with **spark_bfs_1_round(visited_nodes)** which will ultimately be the inner function of **spark_bfs** that we use to perform exactly one traversal of a graph.\n",
        "\n",
        "**TODO**: Write **spark_bfs_1_round(visted_nodes)** that takes the currently dataframe of visited_nodes, performs one round of BFS, and returns an updated visited nodes dataframe. You should assume that a temporary sdf G already exists."
      ],
      "metadata": {
        "id": "eL9Jx1BLzZME"
      }
    },
    {
      "cell_type": "code",
      "source": [
        "def spark_bfs_1_round(visited_nodes):\n",
        "  \"\"\"\n",
        "  :param visited_nodes: dataframe with columns node and distance\n",
        "  :return: dataframe of updated visuted nodes, with columns node and distance\n",
        "  \"\"\"\n",
        "  # TODO: Complete this function to implement 1 round of BFS\n"
      ],
      "metadata": {
        "id": "vZcC22Bfzi6F"
      },
      "execution_count": null,
      "outputs": []
    },
    {
      "cell_type": "markdown",
      "source": [
        "Now, run the inner function on **simple_1_round_bfs_sdf** (i.e. result of 1 round of BFS on the simple graph) and store the results in **simple_bfs_result**. This is ultimately what the output of BFS to depth 2 should look like."
      ],
      "metadata": {
        "id": "VDY1lkNtz3zX"
      }
    },
    {
      "cell_type": "code",
      "source": [
        "# TODO: Run spark_bfs_1_round on simple_1_round_bfs_sdf\n"
      ],
      "metadata": {
        "id": "TxNEr82Z0EYY"
      },
      "execution_count": null,
      "outputs": []
    },
    {
      "cell_type": "markdown",
      "source": [
        "Convert this result to Pandas, sorted by the node (ascending), and submit it to the autograder.\n",
        "\n",
        "**HINT:** Make sure distance is formatted as a number!"
      ],
      "metadata": {
        "id": "IJMBU6I50Ls6"
      }
    },
    {
      "cell_type": "code",
      "source": [
        "# TODO: Convert simple_bfs_result to Pandas sorted by node\n",
        "simple_bfs_test = ..."
      ],
      "metadata": {
        "id": "DltsLEUz0PUg"
      },
      "execution_count": null,
      "outputs": []
    },
    {
      "cell_type": "code",
      "source": [
        "# 6 points\n",
        "grader.grade(test_case_id = 'checksimpleBFS', answer = simple_bfs_test)"
      ],
      "metadata": {
        "id": "rKpFy0tU0R8t"
      },
      "execution_count": null,
      "outputs": []
    },
    {
      "cell_type": "markdown",
      "source": [
        "#### 4.1.3 Full BFS Implementation\n",
        "\n",
        "Now, we will fully implement **spark_bfs**. This function should iteratively call your implemented version of **spark_bfs_1_round** and ultimately return the output of this function at **max_depth**.\n",
        "\n",
        "You are also responsible for initializing the starting dataframe, that is converting the list of origin nodes into a spark dataframe with the nodes logged at distance 0.\n",
        "\n",
        "Consider the following: \n",
        "\n",
        "```\n",
        "schema = StructType([\n",
        "            StructField(\"node\", StringType(), True)\n",
        "        ])\n",
        "\n",
        "    my_sdf = spark.createDataFrame(origins, schema)\n",
        "```\n",
        "\n",
        "The schema ultimately specifies the structure of the Spark DataFrame with a string `node` column. It then calls **spark.createDataFrame** to map this schema to the **origins** nodes. Also, you are responsible for ensuring that a view of your graph is available within this function. (Note: you will also need to add in a distance column)\n",
        "\n",
        "**TODO:** implement **spark_bfs(G,origins,max_depth)** and run on **teams_graph_sdf** initalized in 4.3. Note: you may want to run tests on the **simple_graph** example as the `teams_graph_sdf` will take quite some time to run.\n",
        "\n",
        "These imports might be useful: \n",
        "`from pyspark.sql.types import StructType, StructField, StringType, IntegerType`"
      ],
      "metadata": {
        "id": "wUZugRR20T4F"
      }
    },
    {
      "cell_type": "code",
      "source": [
        "# TODO: iterative search over directed graph\n",
        "# Worth 5 points directly, but will be needed later\n",
        "\n",
        "def spark_bfs(G, origins, max_depth):\n",
        "  \"\"\" runs distributed BFS to a specified max depth\n",
        "\n",
        "  :param G: graph dataframe from 4.3\n",
        "  :param origins: list of origin nodes stored as {\"node\": nodeValue}\n",
        "  :param max_depth: integer value of max depth to run BFS to\n",
        "  :return: dataframe with columns node, distance of all visited nodes\n",
        "  \"\"\"\n"
      ],
      "metadata": {
        "id": "2OpEOcsT1Vwu"
      },
      "execution_count": null,
      "outputs": []
    },
    {
      "cell_type": "markdown",
      "source": [
        "Test that this function works on the simple example. "
      ],
      "metadata": {
        "id": "7ZsmVVlE1r_v"
      }
    },
    {
      "cell_type": "code",
      "source": [
        "simple_bfs_iterative_result = spark_bfs(simple_graph_sdf, smallOrig, 3)\n",
        "simple_bfs_iterative_result.show()"
      ],
      "metadata": {
        "id": "Ideb3M_c1t4N"
      },
      "execution_count": null,
      "outputs": []
    },
    {
      "cell_type": "markdown",
      "source": [
        "### Step 4.2: History of the Super Bowl"
      ],
      "metadata": {
        "id": "V6mLUZvAuwDK"
      }
    },
    {
      "cell_type": "markdown",
      "source": [
        "Time to look at the Super Bowl history dataset. Here we have data for all Super Bowls from 1967 to 2020. Let's load the data to **superbowl_sdf** and see how it looks."
      ],
      "metadata": {
        "id": "HUJ49VklGB92"
      }
    },
    {
      "cell_type": "markdown",
      "source": [
        "Download the `superbowl.csv` dataset from [here](https://drive.google.com/file/d/1QFLg2hvrjOi_QpDnKb0rWiszvP-g6txo/view?usp=sharing), and upload it to the content folder of this Colab notebook."
      ],
      "metadata": {
        "id": "OFT-guWHa4iU"
      }
    },
    {
      "cell_type": "code",
      "source": [
        "superbowl_sdf = spark.read.csv(\"superbowl.csv\", header=True)"
      ],
      "metadata": {
        "id": "ih_KUCTAvvWo"
      },
      "execution_count": null,
      "outputs": []
    },
    {
      "cell_type": "code",
      "source": [
        "superbowl_sdf.show()"
      ],
      "metadata": {
        "id": "FMy3cSNTvvnF"
      },
      "execution_count": null,
      "outputs": []
    },
    {
      "cell_type": "markdown",
      "source": [
        "Do you know which teams have been the most successful during this period? Let's find out!\n",
        "\n",
        "**TODO:** Calculate the number of times each team appears in the *Winner* column, and store this **count_sdf**. This should have two columns: *Winner* and *win_count*."
      ],
      "metadata": {
        "id": "RUxD2OD0GeYE"
      }
    },
    {
      "cell_type": "code",
      "source": [
        "# TODO\n"
      ],
      "metadata": {
        "id": "LwDGFymQv66L"
      },
      "execution_count": null,
      "outputs": []
    },
    {
      "cell_type": "markdown",
      "source": [
        "Convert the dataframe to pandas and pass it to the grader."
      ],
      "metadata": {
        "id": "Qpjvw2j3I9Nt"
      }
    },
    {
      "cell_type": "code",
      "source": [
        "count_df = ..."
      ],
      "metadata": {
        "id": "FJ_GNxFeIvH6"
      },
      "execution_count": null,
      "outputs": []
    },
    {
      "cell_type": "code",
      "source": [
        "# 3 points\n",
        "grader.grade(test_case_id = 'checkSuperBowlCount', answer = count_df)"
      ],
      "metadata": {
        "id": "0y-AIOxyH3s-"
      },
      "execution_count": null,
      "outputs": []
    },
    {
      "cell_type": "markdown",
      "source": [
        "Now that we have the Super Bowl dataset, let's convert it to a graph sdf just like the one we had in section 4.1 (P.S. it's not as hard as it sounds).\n",
        "\n",
        "**TODO:** Create **teams_graph_sdf** that has the columns *from_node* and *to_node*. from_node has all the entries from the *Winner* column and to_node has all the entries from the *Loser* column."
      ],
      "metadata": {
        "id": "NDQHXODMI35m"
      }
    },
    {
      "cell_type": "code",
      "source": [
        "teams_graph_sdf = ..."
      ],
      "metadata": {
        "id": "N85KxevSv4ei"
      },
      "execution_count": null,
      "outputs": []
    },
    {
      "cell_type": "code",
      "source": [
        "# 2 points\n",
        "grader.grade(test_case_id = 'checkSuperBowlGraph', answer = teams_graph_sdf.toPandas())"
      ],
      "metadata": {
        "id": "sQrBW1FcMNEP"
      },
      "execution_count": null,
      "outputs": []
    },
    {
      "cell_type": "markdown",
      "source": [
        "We have our graph ready! All that's left is running full BFS on it find the Super Bacons."
      ],
      "metadata": {
        "id": "C5hCeztRMe2D"
      }
    },
    {
      "cell_type": "markdown",
      "source": [
        "### Step 4.3: The Super Bacon Search"
      ],
      "metadata": {
        "id": "HYMybeI82fgC"
      }
    },
    {
      "cell_type": "markdown",
      "source": [
        "In the previous section, we found out that the New England Patriots and the Pittsburgh Steelers have been the most successful teams in the 54 years. So let's find out the Super Bacons of teams with respect to the New England Patriots."
      ],
      "metadata": {
        "id": "oQyp_EjeM_16"
      }
    },
    {
      "cell_type": "markdown",
      "source": [
        "First, we'll create an origin node using the New England Patriots."
      ],
      "metadata": {
        "id": "W4iQD5nJOrJy"
      }
    },
    {
      "cell_type": "code",
      "source": [
        "orig = [{'node': 'New England Patriots'}]"
      ],
      "metadata": {
        "id": "YolRMKEl2xJG"
      },
      "execution_count": null,
      "outputs": []
    },
    {
      "cell_type": "markdown",
      "source": [
        "Now, run the **spark_bfs()** function on **teams_graph_sdf** using this origin node and a max depth of 5. Store the result in **bfs_5**."
      ],
      "metadata": {
        "id": "rw_lX0nPPoYT"
      }
    },
    {
      "cell_type": "code",
      "source": [
        "bfs_5 = spark_bfs(teams_graph_sdf, orig, 5)"
      ],
      "metadata": {
        "id": "rGG2g_dWPmG-"
      },
      "execution_count": null,
      "outputs": []
    },
    {
      "cell_type": "code",
      "source": [
        "bfs_5.show()"
      ],
      "metadata": {
        "id": "L3nwp0ly20oD"
      },
      "execution_count": null,
      "outputs": []
    },
    {
      "cell_type": "markdown",
      "source": [
        "Converty the result to pandas, store it to answer_df and pass this to the grader."
      ],
      "metadata": {
        "id": "gkmBQnFJQJjz"
      }
    },
    {
      "cell_type": "code",
      "source": [
        "# TODO\n",
        "answer_df = ..."
      ],
      "metadata": {
        "id": "8VmoiLtK21Ru"
      },
      "execution_count": null,
      "outputs": []
    },
    {
      "cell_type": "code",
      "source": [
        "# 15 points\n",
        "grader.grade(test_case_id = 'checkBFS', answer = answer_df)"
      ],
      "metadata": {
        "id": "oCCXO6Wv4KNR"
      },
      "execution_count": null,
      "outputs": []
    },
    {
      "cell_type": "markdown",
      "source": [
        "Voila! We're all done. Just like this NFL season, you've completed the homework."
      ],
      "metadata": {
        "id": "3dePHd9CQW-C"
      }
    },
    {
      "cell_type": "markdown",
      "source": [
        "One last thing, as we predicted before, you're a star."
      ],
      "metadata": {
        "id": "4FJDDdPButTi"
      }
    },
    {
      "cell_type": "markdown",
      "metadata": {
        "id": "EHVFHPVIrvu1"
      },
      "source": [
        "# HW Submission\n",
        "\n",
        "Before you submit on Gradescope (you must submit your notebook to receive credit):\n",
        "\n",
        "\n",
        "1.   Restart and Run-All to make sure there's nothing wrong with your notebook\n",
        "2.   **Double check that you have the correct PennID (all numbers) in the autograder**. \n",
        "3. Make sure you've run all the PennGrader cells\n",
        "4. Go to the \"File\" tab at the top left, and click \"Download .ipynb\" and then \"Download .py\".  **Rename** the files to \"homework3.ipynb\" and \"homework3.py\" respectively and upload them to Gradescope \n",
        "\n",
        "**Let the course staff know ASAP if you have any issues submitting, but otherwise best of luck!**"
      ]
    }
  ]
}